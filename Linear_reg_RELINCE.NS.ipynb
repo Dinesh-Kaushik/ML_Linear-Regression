{
 "cells": [
  {
   "cell_type": "code",
   "execution_count": 15,
   "id": "9c958778",
   "metadata": {},
   "outputs": [],
   "source": [
    "import numpy as np\n",
    "import pandas as pd\n",
    "import seaborn as sns"
   ]
  },
  {
   "cell_type": "code",
   "execution_count": 16,
   "id": "59cb6b7d",
   "metadata": {},
   "outputs": [],
   "source": [
    "df1=pd.read_csv('E:\\\\working_DATA\\\\RELIANCE.NS.csv')"
   ]
  },
  {
   "cell_type": "code",
   "execution_count": 17,
   "id": "a88ea00a",
   "metadata": {},
   "outputs": [],
   "source": [
    "df=df1.drop('Date',axis=1)"
   ]
  },
  {
   "cell_type": "code",
   "execution_count": 18,
   "id": "0bc18e81",
   "metadata": {},
   "outputs": [
    {
     "data": {
      "text/html": [
       "<div>\n",
       "<style scoped>\n",
       "    .dataframe tbody tr th:only-of-type {\n",
       "        vertical-align: middle;\n",
       "    }\n",
       "\n",
       "    .dataframe tbody tr th {\n",
       "        vertical-align: top;\n",
       "    }\n",
       "\n",
       "    .dataframe thead th {\n",
       "        text-align: right;\n",
       "    }\n",
       "</style>\n",
       "<table border=\"1\" class=\"dataframe\">\n",
       "  <thead>\n",
       "    <tr style=\"text-align: right;\">\n",
       "      <th></th>\n",
       "      <th>Open</th>\n",
       "      <th>High</th>\n",
       "      <th>Low</th>\n",
       "      <th>Close</th>\n",
       "      <th>Adj Close</th>\n",
       "      <th>Volume</th>\n",
       "    </tr>\n",
       "  </thead>\n",
       "  <tbody>\n",
       "    <tr>\n",
       "      <th>0</th>\n",
       "      <td>2500.000000</td>\n",
       "      <td>2516.300049</td>\n",
       "      <td>2495.000000</td>\n",
       "      <td>2503.100098</td>\n",
       "      <td>2495.586670</td>\n",
       "      <td>5062651</td>\n",
       "    </tr>\n",
       "    <tr>\n",
       "      <th>1</th>\n",
       "      <td>2467.449951</td>\n",
       "      <td>2467.449951</td>\n",
       "      <td>2403.000000</td>\n",
       "      <td>2420.399902</td>\n",
       "      <td>2413.134521</td>\n",
       "      <td>10665470</td>\n",
       "    </tr>\n",
       "    <tr>\n",
       "      <th>2</th>\n",
       "      <td>2421.100098</td>\n",
       "      <td>2443.899902</td>\n",
       "      <td>2411.350098</td>\n",
       "      <td>2421.500000</td>\n",
       "      <td>2414.231445</td>\n",
       "      <td>5216466</td>\n",
       "    </tr>\n",
       "    <tr>\n",
       "      <th>3</th>\n",
       "      <td>2419.949951</td>\n",
       "      <td>2427.000000</td>\n",
       "      <td>2402.000000</td>\n",
       "      <td>2419.199951</td>\n",
       "      <td>2411.938232</td>\n",
       "      <td>3994321</td>\n",
       "    </tr>\n",
       "    <tr>\n",
       "      <th>4</th>\n",
       "      <td>2436.000000</td>\n",
       "      <td>2467.949951</td>\n",
       "      <td>2421.000000</td>\n",
       "      <td>2457.100098</td>\n",
       "      <td>2449.724609</td>\n",
       "      <td>5766936</td>\n",
       "    </tr>\n",
       "  </tbody>\n",
       "</table>\n",
       "</div>"
      ],
      "text/plain": [
       "          Open         High          Low        Close    Adj Close    Volume\n",
       "0  2500.000000  2516.300049  2495.000000  2503.100098  2495.586670   5062651\n",
       "1  2467.449951  2467.449951  2403.000000  2420.399902  2413.134521  10665470\n",
       "2  2421.100098  2443.899902  2411.350098  2421.500000  2414.231445   5216466\n",
       "3  2419.949951  2427.000000  2402.000000  2419.199951  2411.938232   3994321\n",
       "4  2436.000000  2467.949951  2421.000000  2457.100098  2449.724609   5766936"
      ]
     },
     "execution_count": 18,
     "metadata": {},
     "output_type": "execute_result"
    }
   ],
   "source": [
    "df.head()"
   ]
  },
  {
   "cell_type": "code",
   "execution_count": 19,
   "id": "726bb986",
   "metadata": {},
   "outputs": [],
   "source": [
    "X=df.drop('Close',axis=1)\n",
    "y=df['Close']"
   ]
  },
  {
   "cell_type": "code",
   "execution_count": 20,
   "id": "aec43862",
   "metadata": {},
   "outputs": [
    {
     "data": {
      "text/html": [
       "<div>\n",
       "<style scoped>\n",
       "    .dataframe tbody tr th:only-of-type {\n",
       "        vertical-align: middle;\n",
       "    }\n",
       "\n",
       "    .dataframe tbody tr th {\n",
       "        vertical-align: top;\n",
       "    }\n",
       "\n",
       "    .dataframe thead th {\n",
       "        text-align: right;\n",
       "    }\n",
       "</style>\n",
       "<table border=\"1\" class=\"dataframe\">\n",
       "  <thead>\n",
       "    <tr style=\"text-align: right;\">\n",
       "      <th></th>\n",
       "      <th>Open</th>\n",
       "      <th>High</th>\n",
       "      <th>Low</th>\n",
       "      <th>Adj Close</th>\n",
       "      <th>Volume</th>\n",
       "    </tr>\n",
       "  </thead>\n",
       "  <tbody>\n",
       "    <tr>\n",
       "      <th>0</th>\n",
       "      <td>2500.000000</td>\n",
       "      <td>2516.300049</td>\n",
       "      <td>2495.000000</td>\n",
       "      <td>2495.586670</td>\n",
       "      <td>5062651</td>\n",
       "    </tr>\n",
       "    <tr>\n",
       "      <th>1</th>\n",
       "      <td>2467.449951</td>\n",
       "      <td>2467.449951</td>\n",
       "      <td>2403.000000</td>\n",
       "      <td>2413.134521</td>\n",
       "      <td>10665470</td>\n",
       "    </tr>\n",
       "    <tr>\n",
       "      <th>2</th>\n",
       "      <td>2421.100098</td>\n",
       "      <td>2443.899902</td>\n",
       "      <td>2411.350098</td>\n",
       "      <td>2414.231445</td>\n",
       "      <td>5216466</td>\n",
       "    </tr>\n",
       "    <tr>\n",
       "      <th>3</th>\n",
       "      <td>2419.949951</td>\n",
       "      <td>2427.000000</td>\n",
       "      <td>2402.000000</td>\n",
       "      <td>2411.938232</td>\n",
       "      <td>3994321</td>\n",
       "    </tr>\n",
       "    <tr>\n",
       "      <th>4</th>\n",
       "      <td>2436.000000</td>\n",
       "      <td>2467.949951</td>\n",
       "      <td>2421.000000</td>\n",
       "      <td>2449.724609</td>\n",
       "      <td>5766936</td>\n",
       "    </tr>\n",
       "    <tr>\n",
       "      <th>...</th>\n",
       "      <td>...</td>\n",
       "      <td>...</td>\n",
       "      <td>...</td>\n",
       "      <td>...</td>\n",
       "      <td>...</td>\n",
       "    </tr>\n",
       "    <tr>\n",
       "      <th>242</th>\n",
       "      <td>2747.000000</td>\n",
       "      <td>2815.050049</td>\n",
       "      <td>2728.000000</td>\n",
       "      <td>2796.699951</td>\n",
       "      <td>10254545</td>\n",
       "    </tr>\n",
       "    <tr>\n",
       "      <th>243</th>\n",
       "      <td>2817.000000</td>\n",
       "      <td>2837.449951</td>\n",
       "      <td>2793.000000</td>\n",
       "      <td>2820.449951</td>\n",
       "      <td>11937761</td>\n",
       "    </tr>\n",
       "    <tr>\n",
       "      <th>244</th>\n",
       "      <td>2830.000000</td>\n",
       "      <td>2856.000000</td>\n",
       "      <td>2797.000000</td>\n",
       "      <td>2841.850098</td>\n",
       "      <td>18054869</td>\n",
       "    </tr>\n",
       "    <tr>\n",
       "      <th>245</th>\n",
       "      <td>2580.000000</td>\n",
       "      <td>2630.949951</td>\n",
       "      <td>2580.000000</td>\n",
       "      <td>2619.850098</td>\n",
       "      <td>19358812</td>\n",
       "    </tr>\n",
       "    <tr>\n",
       "      <th>246</th>\n",
       "      <td>2609.000000</td>\n",
       "      <td>2614.899902</td>\n",
       "      <td>2523.600098</td>\n",
       "      <td>2538.750000</td>\n",
       "      <td>15124619</td>\n",
       "    </tr>\n",
       "  </tbody>\n",
       "</table>\n",
       "<p>247 rows × 5 columns</p>\n",
       "</div>"
      ],
      "text/plain": [
       "            Open         High          Low    Adj Close    Volume\n",
       "0    2500.000000  2516.300049  2495.000000  2495.586670   5062651\n",
       "1    2467.449951  2467.449951  2403.000000  2413.134521  10665470\n",
       "2    2421.100098  2443.899902  2411.350098  2414.231445   5216466\n",
       "3    2419.949951  2427.000000  2402.000000  2411.938232   3994321\n",
       "4    2436.000000  2467.949951  2421.000000  2449.724609   5766936\n",
       "..           ...          ...          ...          ...       ...\n",
       "242  2747.000000  2815.050049  2728.000000  2796.699951  10254545\n",
       "243  2817.000000  2837.449951  2793.000000  2820.449951  11937761\n",
       "244  2830.000000  2856.000000  2797.000000  2841.850098  18054869\n",
       "245  2580.000000  2630.949951  2580.000000  2619.850098  19358812\n",
       "246  2609.000000  2614.899902  2523.600098  2538.750000  15124619\n",
       "\n",
       "[247 rows x 5 columns]"
      ]
     },
     "execution_count": 20,
     "metadata": {},
     "output_type": "execute_result"
    }
   ],
   "source": [
    "X"
   ]
  },
  {
   "cell_type": "code",
   "execution_count": 21,
   "id": "96a01144",
   "metadata": {},
   "outputs": [
    {
     "data": {
      "text/plain": [
       "0      2503.100098\n",
       "1      2420.399902\n",
       "2      2421.500000\n",
       "3      2419.199951\n",
       "4      2457.100098\n",
       "          ...     \n",
       "242    2796.699951\n",
       "243    2820.449951\n",
       "244    2841.850098\n",
       "245    2619.850098\n",
       "246    2538.750000\n",
       "Name: Close, Length: 247, dtype: float64"
      ]
     },
     "execution_count": 21,
     "metadata": {},
     "output_type": "execute_result"
    }
   ],
   "source": [
    "y"
   ]
  },
  {
   "cell_type": "code",
   "execution_count": 22,
   "id": "de102205",
   "metadata": {},
   "outputs": [],
   "source": [
    "from sklearn.model_selection import train_test_split\n",
    "X_train,X_test,y_train,y_test=train_test_split(X,y,test_size=0.2,random_state=0)"
   ]
  },
  {
   "cell_type": "code",
   "execution_count": 23,
   "id": "4aca3969",
   "metadata": {},
   "outputs": [],
   "source": [
    "# nor=Normalizer()\n",
    "# nor.fit(X_train)\n",
    "# X_train=nor.transform(X_train)\n",
    "# X_test=nor.transform(X_test)"
   ]
  },
  {
   "cell_type": "code",
   "execution_count": 24,
   "id": "7281a856",
   "metadata": {},
   "outputs": [],
   "source": [
    "from sklearn.preprocessing import StandardScaler,Normalizer\n",
    "sc = StandardScaler()\n",
    "sc.fit(X_train)\n",
    "X_train = sc.transform(X_train)\n",
    "X_test = sc.transform(X_test)"
   ]
  },
  {
   "cell_type": "code",
   "execution_count": 25,
   "id": "2dd38ac3",
   "metadata": {},
   "outputs": [
    {
     "data": {
      "text/plain": [
       "0.9997047348025943"
      ]
     },
     "execution_count": 25,
     "metadata": {},
     "output_type": "execute_result"
    }
   ],
   "source": [
    "from sklearn.linear_model import LinearRegression\n",
    "lr=LinearRegression()\n",
    "lr=lr.fit(X_train,y_train)\n",
    "y_pred=lr.predict(X_test)\n",
    "lr.score(X_test,y_test)"
   ]
  },
  {
   "cell_type": "code",
   "execution_count": 26,
   "id": "fc988158",
   "metadata": {},
   "outputs": [
    {
     "data": {
      "text/plain": [
       "0.9997047348025943"
      ]
     },
     "execution_count": 26,
     "metadata": {},
     "output_type": "execute_result"
    }
   ],
   "source": [
    "from sklearn.metrics import mean_squared_error,r2_score \n",
    "r2_score(y_test,y_pred)"
   ]
  },
  {
   "cell_type": "code",
   "execution_count": 27,
   "id": "f96c5180",
   "metadata": {},
   "outputs": [
    {
     "data": {
      "text/plain": [
       "array([-1.67081261e+00,  3.44440957e+00,  1.18201407e+00,  1.26144676e+02,\n",
       "       -1.02544109e-01])"
      ]
     },
     "execution_count": 27,
     "metadata": {},
     "output_type": "execute_result"
    }
   ],
   "source": [
    "lr.coef_"
   ]
  },
  {
   "cell_type": "code",
   "execution_count": 28,
   "id": "d821c58f",
   "metadata": {},
   "outputs": [
    {
     "data": {
      "text/plain": [
       "2493.72387080203"
      ]
     },
     "execution_count": 28,
     "metadata": {},
     "output_type": "execute_result"
    }
   ],
   "source": [
    "lr.intercept_"
   ]
  },
  {
   "cell_type": "code",
   "execution_count": null,
   "id": "e0e928b5",
   "metadata": {},
   "outputs": [],
   "source": []
  }
 ],
 "metadata": {
  "kernelspec": {
   "display_name": "Python 3 (ipykernel)",
   "language": "python",
   "name": "python3"
  },
  "language_info": {
   "codemirror_mode": {
    "name": "ipython",
    "version": 3
   },
   "file_extension": ".py",
   "mimetype": "text/x-python",
   "name": "python",
   "nbconvert_exporter": "python",
   "pygments_lexer": "ipython3",
   "version": "3.9.13"
  }
 },
 "nbformat": 4,
 "nbformat_minor": 5
}
